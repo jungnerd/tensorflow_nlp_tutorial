{
  "nbformat": 4,
  "nbformat_minor": 0,
  "metadata": {
    "colab": {
      "name": "nlp_1-4_Pandas.ipynb",
      "provenance": [],
      "collapsed_sections": [],
      "mount_file_id": "1xCDg01xgz7GjLiXER__26joY-Gconae9",
      "authorship_tag": "ABX9TyPuXao+hpZNgmH6dqqoAPVs",
      "include_colab_link": true
    },
    "kernelspec": {
      "name": "python3",
      "display_name": "Python 3"
    },
    "language_info": {
      "name": "python"
    },
    "accelerator": "GPU"
  },
  "cells": [
    {
      "cell_type": "markdown",
      "metadata": {
        "id": "view-in-github",
        "colab_type": "text"
      },
      "source": [
        "<a href=\"https://colab.research.google.com/github/jungnerd/tensorflow_nlp_tutorial/blob/main/nlp_1_4_Pandas.ipynb\" target=\"_parent\"><img src=\"https://colab.research.google.com/assets/colab-badge.svg\" alt=\"Open In Colab\"/></a>"
      ]
    },
    {
      "cell_type": "markdown",
      "source": [
        "# 1. 판다스(Pandas)"
      ],
      "metadata": {
        "id": "g_a9T8S-bJE_"
      }
    },
    {
      "cell_type": "code",
      "source": [
        "import pandas as pd"
      ],
      "metadata": {
        "id": "8v3IHQBqpfFP"
      },
      "execution_count": 7,
      "outputs": []
    },
    {
      "cell_type": "markdown",
      "source": [
        "## 1) 시리즈(Series)"
      ],
      "metadata": {
        "id": "MuZv-2ISbAL1"
      }
    },
    {
      "cell_type": "code",
      "source": [
        "sr = pd.Series([17000, 18000, 1000, 5000],\n",
        "               index = ['피자', '치킨', '콜라', '맥주'])"
      ],
      "metadata": {
        "id": "_A9xptqFrNT2"
      },
      "execution_count": 8,
      "outputs": []
    },
    {
      "cell_type": "code",
      "source": [
        "print(\"시리즈 출력 :\")\n",
        "print(\"-\"*15)\n",
        "print(sr)"
      ],
      "metadata": {
        "colab": {
          "base_uri": "https://localhost:8080/"
        },
        "id": "QA-5HHhKrXPQ",
        "outputId": "0f541ace-5ac3-4384-b33e-ac697bafd160"
      },
      "execution_count": 9,
      "outputs": [
        {
          "output_type": "stream",
          "name": "stdout",
          "text": [
            "시리즈 출력 :\n",
            "---------------\n",
            "피자    17000\n",
            "치킨    18000\n",
            "콜라     1000\n",
            "맥주     5000\n",
            "dtype: int64\n"
          ]
        }
      ]
    },
    {
      "cell_type": "code",
      "source": [
        "print(\"시리즈의 값 : {}\".format(sr.values))\n",
        "print(f\"시리즈의 인덱스 : {sr.index}\")"
      ],
      "metadata": {
        "colab": {
          "base_uri": "https://localhost:8080/"
        },
        "id": "Oxro8XO1rjRP",
        "outputId": "d36d22c3-6589-4b38-ce46-06918fca9412"
      },
      "execution_count": 10,
      "outputs": [
        {
          "output_type": "stream",
          "name": "stdout",
          "text": [
            "시리즈의 값 : [17000 18000  1000  5000]\n",
            "시리즈의 인덱스 : Index(['피자', '치킨', '콜라', '맥주'], dtype='object')\n"
          ]
        }
      ]
    },
    {
      "cell_type": "markdown",
      "source": [
        "## 2) 데이터프레임(DataFrame)"
      ],
      "metadata": {
        "id": "8JwrFRrka6gb"
      }
    },
    {
      "cell_type": "code",
      "source": [
        "values = [[1, 2, 3], [4, 5, 6], [7, 8, 9]]\n",
        "index = ['one', 'two', 'three']\n",
        "columns = ['A', 'B', 'C']"
      ],
      "metadata": {
        "id": "gpMMUPIKseI_"
      },
      "execution_count": 11,
      "outputs": []
    },
    {
      "cell_type": "code",
      "source": [
        "df = pd.DataFrame(values, index=index, columns=columns)"
      ],
      "metadata": {
        "id": "TIKGRKQ0tKGa"
      },
      "execution_count": 12,
      "outputs": []
    },
    {
      "cell_type": "code",
      "source": [
        "print(\"데이터프레임 출력 :\")\n",
        "print('-'*18)\n",
        "print(df)"
      ],
      "metadata": {
        "colab": {
          "base_uri": "https://localhost:8080/"
        },
        "id": "U1W06J8ltS1x",
        "outputId": "03d9c122-1fbd-4aa9-bd3e-3d1599623eaa"
      },
      "execution_count": 13,
      "outputs": [
        {
          "output_type": "stream",
          "name": "stdout",
          "text": [
            "데이터프레임 출력 :\n",
            "------------------\n",
            "       A  B  C\n",
            "one    1  2  3\n",
            "two    4  5  6\n",
            "three  7  8  9\n"
          ]
        }
      ]
    },
    {
      "cell_type": "code",
      "source": [
        "print(\"데이터프레임의 인덱스 : {}\".format(df.index))\n",
        "print(\"데이터프레임의 열이름 : {}\".format(df.columns))\n",
        "print(\"데이터프레임의 값 :\")\n",
        "print(\"-\"*18)\n",
        "print(df)"
      ],
      "metadata": {
        "colab": {
          "base_uri": "https://localhost:8080/"
        },
        "id": "vvPPCp0ZtdSM",
        "outputId": "8d9a3b07-04bd-4bb2-f443-ea80cb44d3ce"
      },
      "execution_count": 15,
      "outputs": [
        {
          "output_type": "stream",
          "name": "stdout",
          "text": [
            "데이터프레임의 인덱스 : Index(['one', 'two', 'three'], dtype='object')\n",
            "데이터프레임의 열이름 : Index(['A', 'B', 'C'], dtype='object')\n",
            "데이터프레임의 값 :\n",
            "------------------\n",
            "       A  B  C\n",
            "one    1  2  3\n",
            "two    4  5  6\n",
            "three  7  8  9\n"
          ]
        }
      ]
    },
    {
      "cell_type": "markdown",
      "source": [
        "## 3) 데이터프레임의 생성"
      ],
      "metadata": {
        "id": "Nv6xj-GPbRcb"
      }
    },
    {
      "cell_type": "markdown",
      "source": [
        "리스트와 딕셔너리를 사용해여 데이터프레임을 생성하는 예제"
      ],
      "metadata": {
        "id": "nPFI8hZebbGY"
      }
    },
    {
      "cell_type": "code",
      "source": [
        "#리스트로 생성하기\n",
        "data = [\n",
        "        ['1000', 'Steve', 90.72],\n",
        "        ['1001', 'James', 79.09],\n",
        "        ['1002', 'Doyeon', 98.43],\n",
        "        ['1003', 'Jane', 64.19],\n",
        "        ['1004', 'Woojun', 99.92],\n",
        "        ['1005', 'Tony', 89.13]\n",
        "]\n",
        "\n",
        "df = pd.DataFrame(data)\n",
        "print(df)"
      ],
      "metadata": {
        "colab": {
          "base_uri": "https://localhost:8080/"
        },
        "id": "5KE548WATxRx",
        "outputId": "19685565-cf09-4885-f0c5-5e86766a34bb"
      },
      "execution_count": 18,
      "outputs": [
        {
          "output_type": "stream",
          "name": "stdout",
          "text": [
            "      0       1      2\n",
            "0  1000   Steve  90.72\n",
            "1  1001   James  79.09\n",
            "2  1002  Doyeon  98.43\n",
            "3  1003    Jane  64.19\n",
            "4  1004  Woojun  99.92\n",
            "5  1005    Tony  89.13\n"
          ]
        }
      ]
    },
    {
      "cell_type": "code",
      "source": [
        "#열이름 지정\n",
        "df = pd.DataFrame(data, columns=['학번', '이름', '점수'])\n",
        "print(df)"
      ],
      "metadata": {
        "colab": {
          "base_uri": "https://localhost:8080/"
        },
        "id": "ejs41kRCcFKr",
        "outputId": "736edbdc-d082-4767-bca9-011d6e70e211"
      },
      "execution_count": 19,
      "outputs": [
        {
          "output_type": "stream",
          "name": "stdout",
          "text": [
            "     학번      이름     점수\n",
            "0  1000   Steve  90.72\n",
            "1  1001   James  79.09\n",
            "2  1002  Doyeon  98.43\n",
            "3  1003    Jane  64.19\n",
            "4  1004  Woojun  99.92\n",
            "5  1005    Tony  89.13\n"
          ]
        }
      ]
    },
    {
      "cell_type": "code",
      "source": [
        "#딕셔너리로 생성하기\n",
        "data = {\n",
        "    '학번' : ['1000', '1001', '1002', '1003', '1004', '1005'],\n",
        "    '이름' : ['Steve', 'James', 'Doyeon', 'Jane', 'Woojun', 'Tony'],\n",
        "    '점수' : [90.72, 79.09, 98.43, 64.19, 99.92, 89.13]\n",
        "}\n",
        "\n",
        "df = pd.DataFrame(data)\n",
        "print(df)"
      ],
      "metadata": {
        "colab": {
          "base_uri": "https://localhost:8080/"
        },
        "id": "CVSPRt4acbuo",
        "outputId": "1872fb37-eb44-4bd6-d175-ce328f4bf6a2"
      },
      "execution_count": 21,
      "outputs": [
        {
          "output_type": "stream",
          "name": "stdout",
          "text": [
            "     학번      이름     점수\n",
            "0  1000   Steve  90.72\n",
            "1  1001   James  79.09\n",
            "2  1002  Doyeon  98.43\n",
            "3  1003    Jane  64.19\n",
            "4  1004  Woojun  99.92\n",
            "5  1005    Tony  89.13\n"
          ]
        }
      ]
    },
    {
      "cell_type": "markdown",
      "source": [
        "## 4) 데이터프레임 조회하기"
      ],
      "metadata": {
        "id": "Kzgj8zuNdl3n"
      }
    },
    {
      "cell_type": "code",
      "source": [
        "#앞부분 3개만 보기\n",
        "print(df.head(3))"
      ],
      "metadata": {
        "colab": {
          "base_uri": "https://localhost:8080/"
        },
        "id": "A6Wgc104dEEM",
        "outputId": "de100f87-c8f7-48d1-d1a8-866d85cd0538"
      },
      "execution_count": 22,
      "outputs": [
        {
          "output_type": "stream",
          "name": "stdout",
          "text": [
            "     학번      이름     점수\n",
            "0  1000   Steve  90.72\n",
            "1  1001   James  79.09\n",
            "2  1002  Doyeon  98.43\n"
          ]
        }
      ]
    },
    {
      "cell_type": "code",
      "source": [
        "#뒷부분 3개만 보기\n",
        "print(df.tail(3))"
      ],
      "metadata": {
        "colab": {
          "base_uri": "https://localhost:8080/"
        },
        "id": "Ij7BGfDJdvjL",
        "outputId": "acde9c6a-1386-470e-cb76-44748ce24fb4"
      },
      "execution_count": 23,
      "outputs": [
        {
          "output_type": "stream",
          "name": "stdout",
          "text": [
            "     학번      이름     점수\n",
            "3  1003    Jane  64.19\n",
            "4  1004  Woojun  99.92\n",
            "5  1005    Tony  89.13\n"
          ]
        }
      ]
    },
    {
      "cell_type": "code",
      "source": [
        "#'학번'에 해당되는 열 보기\n",
        "print(df['학번'])"
      ],
      "metadata": {
        "colab": {
          "base_uri": "https://localhost:8080/"
        },
        "id": "VxcTdG4Zd0nA",
        "outputId": "f8fdc388-3dff-4a88-9c9c-72017b725306"
      },
      "execution_count": 24,
      "outputs": [
        {
          "output_type": "stream",
          "name": "stdout",
          "text": [
            "0    1000\n",
            "1    1001\n",
            "2    1002\n",
            "3    1003\n",
            "4    1004\n",
            "5    1005\n",
            "Name: 학번, dtype: object\n"
          ]
        }
      ]
    },
    {
      "cell_type": "markdown",
      "source": [
        "## 5) 외부 데이터 읽기"
      ],
      "metadata": {
        "id": "hdFB17QmeCez"
      }
    },
    {
      "cell_type": "markdown",
      "source": [
        "Pandas는 CSV, text, Excel, SQL, HTML, JSON등 다양한 데이터 파일을 읽고 데이터프레임을 생성할 수 있습니다. "
      ],
      "metadata": {
        "id": "RtlziMqSeSUN"
      }
    },
    {
      "cell_type": "markdown",
      "source": [
        "예를 들어, CSV 파일을 읽을 때는 \n",
        "\n",
        "```\n",
        "pandas.read_csv()\n",
        "```\n",
        "을 통해 읽을 수 있습니다.\n"
      ],
      "metadata": {
        "id": "w4q9e-gOeeP9"
      }
    }
  ]
}
